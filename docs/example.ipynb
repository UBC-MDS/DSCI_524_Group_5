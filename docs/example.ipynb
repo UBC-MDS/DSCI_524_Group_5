{
 "cells": [
  {
   "cell_type": "markdown",
   "id": "5964b4f2-2fa8-4225-810b-aa793e00320d",
   "metadata": {},
   "source": [
    "# Example usage\n",
    "\n",
    "To use `EDAhelper` in a project:"
   ]
  },
  {
   "cell_type": "code",
   "execution_count": 3,
   "id": "c9a2be58-689b-446b-bba0-db3e08b583db",
   "metadata": {},
   "outputs": [
    {
     "name": "stdout",
     "output_type": "stream",
     "text": [
      "0.1.0\n"
     ]
    }
   ],
   "source": [
    "import EDAhelper\n",
    "\n",
    "\n",
    "print(EDAhelper.__version__)"
   ]
  }
 ],
 "metadata": {
  "kernelspec": {
   "display_name": "Python [conda env:EDAhelper]",
   "language": "python",
   "name": "conda-env-EDAhelper-py"
  },
  "language_info": {
   "codemirror_mode": {
    "name": "ipython",
    "version": 3
   },
   "file_extension": ".py",
   "mimetype": "text/x-python",
   "name": "python",
   "nbconvert_exporter": "python",
   "pygments_lexer": "ipython3",
   "version": "3.8.12"
  }
 },
 "nbformat": 4,
 "nbformat_minor": 5
}
