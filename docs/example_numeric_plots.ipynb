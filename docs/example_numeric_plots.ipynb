{
 "cells": [
  {
   "cell_type": "markdown",
   "metadata": {},
   "source": [
    "# Example usage\n",
    "\n",
    "Here we will demonstrate how to use `numeric_plots` to generate a matrix of correlation plots.\n",
    "\n",
    "## Imports"
   ]
  },
  {
   "cell_type": "code",
   "execution_count": 1,
   "metadata": {},
   "outputs": [
    {
     "name": "stdout",
     "output_type": "stream",
     "text": [
      "\n",
      "    Creating a matrix of correlation plots with the numeric features.\n",
      "\n",
      "    Parameters\n",
      "    ----------\n",
      "        df: pandas.dataframe\n",
      "            A pandas dataframe\n",
      "\n",
      "    Returns\n",
      "    -------\n",
      "        splom: Altair chart object\n",
      "        The Altair object for the plots\n",
      "\n",
      "    Example\n",
      "    -------\n",
      "    >>> from EDAhelper.numeric_plots import numeric_plots\n",
      "    >>> splom = numeric_plot(df) \n",
      "    \n"
     ]
    }
   ],
   "source": [
    "from EDAhelper.numeric_plots import numeric_plots"
   ]
  },
  {
   "cell_type": "markdown",
   "metadata": {},
   "source": [
    "## Create a dataframe\n",
    "\n",
    "We'll first create a dataframe:"
   ]
  },
  {
   "cell_type": "code",
   "execution_count": 2,
   "metadata": {},
   "outputs": [],
   "source": [
    "import pandas as pd\n",
    "\n",
    "df = pd.DataFrame({\n",
    "    'A': [100, 142, 30, 40, 50],\n",
    "    'B': [94, 55, 100, 120, 110],\n",
    "    'C': [94, 68, 20, 17, 18],\n",
    "    'D': [3.86, 4.05, 5.6, 1.0, 5.7],\n",
    "    'name': ['Jennifer', 'Rowan', 'Steven', 'Vera', 'Florencia']\n",
    "})"
   ]
  },
  {
   "cell_type": "markdown",
   "metadata": {},
   "source": [
    "## Generate the matrix of correlation plots"
   ]
  },
  {
   "cell_type": "code",
   "execution_count": 3,
   "metadata": {},
   "outputs": [
    {
     "data": {
      "text/html": [
       "\n",
       "<div id=\"altair-viz-8957af5936d546ed8f3d4073487f8751\"></div>\n",
       "<script type=\"text/javascript\">\n",
       "  var VEGA_DEBUG = (typeof VEGA_DEBUG == \"undefined\") ? {} : VEGA_DEBUG;\n",
       "  (function(spec, embedOpt){\n",
       "    let outputDiv = document.currentScript.previousElementSibling;\n",
       "    if (outputDiv.id !== \"altair-viz-8957af5936d546ed8f3d4073487f8751\") {\n",
       "      outputDiv = document.getElementById(\"altair-viz-8957af5936d546ed8f3d4073487f8751\");\n",
       "    }\n",
       "    const paths = {\n",
       "      \"vega\": \"https://cdn.jsdelivr.net/npm//vega@5?noext\",\n",
       "      \"vega-lib\": \"https://cdn.jsdelivr.net/npm//vega-lib?noext\",\n",
       "      \"vega-lite\": \"https://cdn.jsdelivr.net/npm//vega-lite@4.17.0?noext\",\n",
       "      \"vega-embed\": \"https://cdn.jsdelivr.net/npm//vega-embed@6?noext\",\n",
       "    };\n",
       "\n",
       "    function maybeLoadScript(lib, version) {\n",
       "      var key = `${lib.replace(\"-\", \"\")}_version`;\n",
       "      return (VEGA_DEBUG[key] == version) ?\n",
       "        Promise.resolve(paths[lib]) :\n",
       "        new Promise(function(resolve, reject) {\n",
       "          var s = document.createElement('script');\n",
       "          document.getElementsByTagName(\"head\")[0].appendChild(s);\n",
       "          s.async = true;\n",
       "          s.onload = () => {\n",
       "            VEGA_DEBUG[key] = version;\n",
       "            return resolve(paths[lib]);\n",
       "          };\n",
       "          s.onerror = () => reject(`Error loading script: ${paths[lib]}`);\n",
       "          s.src = paths[lib];\n",
       "        });\n",
       "    }\n",
       "\n",
       "    function showError(err) {\n",
       "      outputDiv.innerHTML = `<div class=\"error\" style=\"color:red;\">${err}</div>`;\n",
       "      throw err;\n",
       "    }\n",
       "\n",
       "    function displayChart(vegaEmbed) {\n",
       "      vegaEmbed(outputDiv, spec, embedOpt)\n",
       "        .catch(err => showError(`Javascript Error: ${err.message}<br>This usually means there's a typo in your chart specification. See the javascript console for the full traceback.`));\n",
       "    }\n",
       "\n",
       "    if(typeof define === \"function\" && define.amd) {\n",
       "      requirejs.config({paths});\n",
       "      require([\"vega-embed\"], displayChart, err => showError(`Error loading script: ${err.message}`));\n",
       "    } else {\n",
       "      maybeLoadScript(\"vega\", \"5\")\n",
       "        .then(() => maybeLoadScript(\"vega-lite\", \"4.17.0\"))\n",
       "        .then(() => maybeLoadScript(\"vega-embed\", \"6\"))\n",
       "        .catch(showError)\n",
       "        .then(() => displayChart(vegaEmbed));\n",
       "    }\n",
       "  })({\"config\": {\"view\": {\"continuousWidth\": 400, \"continuousHeight\": 300}, \"axis\": {\"labelFontSize\": 8, \"titleFontSize\": 8}}, \"repeat\": {\"column\": [\"A\", \"B\", \"C\", \"D\"], \"row\": [\"A\", \"B\", \"C\", \"D\"]}, \"spec\": {\"data\": {\"name\": \"data-9a8a8ba33ceb61251a303f17c86bbb64\"}, \"mark\": {\"type\": \"point\", \"opacity\": 0.3, \"size\": 10}, \"encoding\": {\"x\": {\"field\": {\"repeat\": \"row\"}, \"scale\": {\"zero\": false}, \"type\": \"quantitative\"}, \"y\": {\"field\": {\"repeat\": \"column\"}, \"scale\": {\"zero\": false}, \"type\": \"quantitative\"}}, \"height\": 120, \"width\": 120}, \"$schema\": \"https://vega.github.io/schema/vega-lite/v4.17.0.json\", \"datasets\": {\"data-9a8a8ba33ceb61251a303f17c86bbb64\": [{\"A\": 100, \"B\": 94, \"C\": 94, \"D\": 3.86}, {\"A\": 142, \"B\": 55, \"C\": 68, \"D\": 4.05}, {\"A\": 30, \"B\": 100, \"C\": 20, \"D\": 5.6}, {\"A\": 40, \"B\": 120, \"C\": 17, \"D\": 1.0}, {\"A\": 50, \"B\": 110, \"C\": 18, \"D\": 5.7}]}}, {\"mode\": \"vega-lite\"});\n",
       "</script>"
      ],
      "text/plain": [
       "alt.RepeatChart(...)"
      ]
     },
     "execution_count": 3,
     "metadata": {},
     "output_type": "execute_result"
    }
   ],
   "source": [
    "splom = numeric_plots(df)\n",
    "splom"
   ]
  },
  {
   "cell_type": "code",
   "execution_count": null,
   "metadata": {},
   "outputs": [],
   "source": []
  }
 ],
 "metadata": {
  "kernelspec": {
   "display_name": "Python 3",
   "language": "python",
   "name": "python3"
  },
  "language_info": {
   "codemirror_mode": {
    "name": "ipython",
    "version": 3
   },
   "file_extension": ".py",
   "mimetype": "text/x-python",
   "name": "python",
   "nbconvert_exporter": "python",
   "pygments_lexer": "ipython3",
   "version": "3.8.8"
  }
 },
 "nbformat": 4,
 "nbformat_minor": 4
}
